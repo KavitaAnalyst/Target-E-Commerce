{
 "cells": [
  {
   "cell_type": "code",
   "execution_count": 1,
   "id": "79b1733b",
   "metadata": {},
   "outputs": [],
   "source": [
    "import pandas as pd\n",
    "import os\n",
    "import mysql.connector"
   ]
  },
  {
   "cell_type": "code",
   "execution_count": 2,
   "id": "f9494568",
   "metadata": {},
   "outputs": [
    {
     "name": "stdout",
     "output_type": "stream",
     "text": [
      "Processing customers.csv\n",
      "NaN values before replacement:\n",
      "customer_id                 0\n",
      "customer_unique_id          0\n",
      "customer_zip_code_prefix    0\n",
      "customer_city               0\n",
      "customer_state              0\n",
      "dtype: int64\n",
      "\n",
      "Processing geolocation.csv\n",
      "NaN values before replacement:\n",
      "geolocation_zip_code_prefix    0\n",
      "geolocation_lat                0\n",
      "geolocation_lng                0\n",
      "geolocation_city               0\n",
      "geolocation_state              0\n",
      "dtype: int64\n",
      "\n",
      "Processing order_items.csv\n",
      "NaN values before replacement:\n",
      "order_id               0\n",
      "order_item_id          0\n",
      "product_id             0\n",
      "seller_id              0\n",
      "shipping_limit_date    0\n",
      "price                  0\n",
      "freight_value          0\n",
      "dtype: int64\n",
      "\n",
      "Processing orders.csv\n",
      "NaN values before replacement:\n",
      "order_id                            0\n",
      "customer_id                         0\n",
      "order_status                        0\n",
      "order_purchase_timestamp            0\n",
      "order_approved_at                 160\n",
      "order_delivered_carrier_date     1783\n",
      "order_delivered_customer_date    2965\n",
      "order_estimated_delivery_date       0\n",
      "dtype: int64\n",
      "\n",
      "Processing payments.csv\n",
      "NaN values before replacement:\n",
      "order_id                0\n",
      "payment_sequential      0\n",
      "payment_type            0\n",
      "payment_installments    0\n",
      "payment_value           0\n",
      "dtype: int64\n",
      "\n",
      "Processing products.csv\n",
      "NaN values before replacement:\n",
      "product_id                      0\n",
      "product category              610\n",
      "product_name_length           610\n",
      "product_description_length    610\n",
      "product_photos_qty            610\n",
      "product_weight_g                2\n",
      "product_length_cm               2\n",
      "product_height_cm               2\n",
      "product_width_cm                2\n",
      "dtype: int64\n",
      "\n",
      "Processing sellers.csv\n",
      "NaN values before replacement:\n",
      "seller_id                 0\n",
      "seller_zip_code_prefix    0\n",
      "seller_city               0\n",
      "seller_state              0\n",
      "dtype: int64\n",
      "\n"
     ]
    }
   ],
   "source": [
    "# List of CSV files and their corresponding table names.\n",
    "csv_files = [\n",
    "    ('customers.csv','customer'),\n",
    "    ('geolocation.csv','geolocation'),\n",
    "    ('order_items.csv','order_items'),\n",
    "    ('orders.csv','orders'),\n",
    "    ('payments.csv','payments'),\n",
    "    ('products.csv','products'),\n",
    "    ('sellers.csv','sellers')\n",
    "   \n",
    "]\n",
    "#connect to MySql database\n",
    "\n",
    "conn = mysql.connector.connect(\n",
    "    host='localhost',\n",
    "    user='root',\n",
    "    password='Universe@123',\n",
    "    database='ecommerce'\n",
    ")\n",
    "\n",
    "cursor = conn.cursor()\n",
    "\n",
    "# Add folder that cobntains csv files.\n",
    "\n",
    "folder_path = \"C:/Users/kavit/OneDrive/Desktop/case Study/TargetEommerce\";\n",
    "\n",
    "def get_sql_type(dtype):\n",
    "    if pd.api.types.is_integer_dtype(dtype):\n",
    "        return 'INT'\n",
    "    elif pd.api.types.is_float_dtype(dtype):\n",
    "        return 'FLOAT'\n",
    "    elif pd.api.types.is_bool_dtype(dtype):\n",
    "        return 'BOOLEAN'\n",
    "    elif pd.api.types.is_datetime64_any_dtype(dtype):\n",
    "        return 'DATETIME'\n",
    "    else:\n",
    "        return 'TEXT'\n",
    "\n",
    "for csv_file, table_name in csv_files:\n",
    "    file_path = os.path.join(folder_path, csv_file)\n",
    "    \n",
    "    # Read the CSV file into a pandas DataFrame\n",
    "    df = pd.read_csv(file_path)\n",
    "    \n",
    "    # Replace NaN with None to handle SQL NULL\n",
    "    df = df.where(pd.notnull(df), None)\n",
    "    \n",
    "    # Debugging: Check for NaN values\n",
    "    print(f\"Processing {csv_file}\")\n",
    "    print(f\"NaN values before replacement:\\n{df.isnull().sum()}\\n\")\n",
    "\n",
    "    # Clean column names\n",
    "    df.columns = [col.replace(' ', '_').replace('-', '_').replace('.', '_') for col in df.columns]\n",
    "\n",
    "    # Generate the CREATE TABLE statement with appropriate data types\n",
    "    columns = ', '.join([f'`{col}` {get_sql_type(df[col].dtype)}' for col in df.columns])\n",
    "    create_table_query = f'CREATE TABLE IF NOT EXISTS `{table_name}` ({columns})'\n",
    "    cursor.execute(create_table_query)\n",
    "\n",
    "    # Insert DataFrame data into the MySQL table\n",
    "    for _, row in df.iterrows():\n",
    "        # Convert row to tuple and handle NaN/None explicitly\n",
    "        values = tuple(None if pd.isna(x) else x for x in row)\n",
    "        sql = f\"INSERT INTO `{table_name}` ({', '.join(['`' + col + '`' for col in df.columns])}) VALUES ({', '.join(['%s'] * len(row))})\"\n",
    "        cursor.execute(sql, values)\n",
    "\n",
    "    # Commit the transaction for the current CSV file\n",
    "    conn.commit()\n",
    "\n",
    "# Close the connection\n",
    "conn.close()\n",
    "\n",
    "\n",
    "\n",
    "\n"
   ]
  },
  {
   "cell_type": "code",
   "execution_count": 1,
   "id": "23da097e",
   "metadata": {},
   "outputs": [],
   "source": [
    "#import libraries \n",
    "\n",
    "import pandas as pd \n",
    "import matplotlib.pyplot as plt\n",
    "import seaborn as sns\n",
    "import mysql.connector\n",
    "\n",
    "\n",
    "db = mysql.connector.connect(host='localhost',\n",
    "                             username='root',\n",
    "                             password='Universe@123',\n",
    "                             database=\"ecommerce\"\n",
    "                            )\n",
    "cur = db.cursor()"
   ]
  },
  {
   "cell_type": "code",
   "execution_count": null,
   "id": "ebf9efc3",
   "metadata": {},
   "outputs": [],
   "source": []
  },
  {
   "cell_type": "markdown",
   "id": "5c110015",
   "metadata": {},
   "source": [
    "# List all unique cities where customers are located.\n",
    "\n",
    "\n",
    "\n",
    "\n"
   ]
  },
  {
   "cell_type": "code",
   "execution_count": 34,
   "id": "87d5435c",
   "metadata": {},
   "outputs": [
    {
     "data": {
      "text/html": [
       "<div>\n",
       "<style scoped>\n",
       "    .dataframe tbody tr th:only-of-type {\n",
       "        vertical-align: middle;\n",
       "    }\n",
       "\n",
       "    .dataframe tbody tr th {\n",
       "        vertical-align: top;\n",
       "    }\n",
       "\n",
       "    .dataframe thead th {\n",
       "        text-align: right;\n",
       "    }\n",
       "</style>\n",
       "<table border=\"1\" class=\"dataframe\">\n",
       "  <thead>\n",
       "    <tr style=\"text-align: right;\">\n",
       "      <th></th>\n",
       "      <th>0</th>\n",
       "    </tr>\n",
       "  </thead>\n",
       "  <tbody>\n",
       "    <tr>\n",
       "      <th>0</th>\n",
       "      <td>franca</td>\n",
       "    </tr>\n",
       "    <tr>\n",
       "      <th>1</th>\n",
       "      <td>sao bernardo do campo</td>\n",
       "    </tr>\n",
       "    <tr>\n",
       "      <th>2</th>\n",
       "      <td>sao paulo</td>\n",
       "    </tr>\n",
       "    <tr>\n",
       "      <th>3</th>\n",
       "      <td>mogi das cruzes</td>\n",
       "    </tr>\n",
       "    <tr>\n",
       "      <th>4</th>\n",
       "      <td>campinas</td>\n",
       "    </tr>\n",
       "  </tbody>\n",
       "</table>\n",
       "</div>"
      ],
      "text/plain": [
       "                       0\n",
       "0                 franca\n",
       "1  sao bernardo do campo\n",
       "2              sao paulo\n",
       "3        mogi das cruzes\n",
       "4               campinas"
      ]
     },
     "execution_count": 34,
     "metadata": {},
     "output_type": "execute_result"
    }
   ],
   "source": [
    "query = '''SELECT DISTINCT customer_city FROM customer'''\n",
    "cur.execute(query)\n",
    "data = cur.fetchall()\n",
    "df = pd.DataFrame(data)\n",
    "df.head(5)"
   ]
  },
  {
   "cell_type": "markdown",
   "id": "b42d82b4",
   "metadata": {},
   "source": [
    "# Count the number of orders placed in 2017.\n"
   ]
  },
  {
   "cell_type": "code",
   "execution_count": 12,
   "id": "a646e6cb",
   "metadata": {},
   "outputs": [
    {
     "data": {
      "text/plain": [
       "('total orders placed in 2017 are ', 45101)"
      ]
     },
     "execution_count": 12,
     "metadata": {},
     "output_type": "execute_result"
    }
   ],
   "source": [
    "query  = '''SELECT COUNT(order_id) , YEAR(order_purchase_timestamp) as order_placed_2017\n",
    " FROM ecommerce.orders\n",
    " WHERE YEAR(order_purchase_timestamp) = 2017;'''\n",
    "cur.execute(query)\n",
    "data = cur.fetchall()\n",
    "\"total orders placed in 2017 are \", data[0][0]\n",
    "    "
   ]
  },
  {
   "cell_type": "markdown",
   "id": "3986e3fe",
   "metadata": {},
   "source": [
    "# Find the total sales per category."
   ]
  },
  {
   "cell_type": "code",
   "execution_count": 18,
   "id": "965730df",
   "metadata": {},
   "outputs": [
    {
     "data": {
      "text/html": [
       "<div>\n",
       "<style scoped>\n",
       "    .dataframe tbody tr th:only-of-type {\n",
       "        vertical-align: middle;\n",
       "    }\n",
       "\n",
       "    .dataframe tbody tr th {\n",
       "        vertical-align: top;\n",
       "    }\n",
       "\n",
       "    .dataframe thead th {\n",
       "        text-align: right;\n",
       "    }\n",
       "</style>\n",
       "<table border=\"1\" class=\"dataframe\">\n",
       "  <thead>\n",
       "    <tr style=\"text-align: right;\">\n",
       "      <th></th>\n",
       "      <th>Category</th>\n",
       "      <th>Sales</th>\n",
       "    </tr>\n",
       "  </thead>\n",
       "  <tbody>\n",
       "    <tr>\n",
       "      <th>0</th>\n",
       "      <td>perfumery</td>\n",
       "      <td>5.067387e+05</td>\n",
       "    </tr>\n",
       "    <tr>\n",
       "      <th>1</th>\n",
       "      <td>Furniture Decoration</td>\n",
       "      <td>1.430176e+06</td>\n",
       "    </tr>\n",
       "    <tr>\n",
       "      <th>2</th>\n",
       "      <td>telephony</td>\n",
       "      <td>4.868821e+05</td>\n",
       "    </tr>\n",
       "    <tr>\n",
       "      <th>3</th>\n",
       "      <td>Fashion Bags and Accessories</td>\n",
       "      <td>2.181583e+05</td>\n",
       "    </tr>\n",
       "    <tr>\n",
       "      <th>4</th>\n",
       "      <td>bed table bath</td>\n",
       "      <td>1.712554e+06</td>\n",
       "    </tr>\n",
       "    <tr>\n",
       "      <th>...</th>\n",
       "      <td>...</td>\n",
       "      <td>...</td>\n",
       "    </tr>\n",
       "    <tr>\n",
       "      <th>69</th>\n",
       "      <td>cds music dvds</td>\n",
       "      <td>1.199430e+03</td>\n",
       "    </tr>\n",
       "    <tr>\n",
       "      <th>70</th>\n",
       "      <td>La Cuisine</td>\n",
       "      <td>2.913530e+03</td>\n",
       "    </tr>\n",
       "    <tr>\n",
       "      <th>71</th>\n",
       "      <td>Fashion Children's Clothing</td>\n",
       "      <td>7.856700e+02</td>\n",
       "    </tr>\n",
       "    <tr>\n",
       "      <th>72</th>\n",
       "      <td>PC Gamer</td>\n",
       "      <td>2.174430e+03</td>\n",
       "    </tr>\n",
       "    <tr>\n",
       "      <th>73</th>\n",
       "      <td>insurance and services</td>\n",
       "      <td>3.245100e+02</td>\n",
       "    </tr>\n",
       "  </tbody>\n",
       "</table>\n",
       "<p>74 rows × 2 columns</p>\n",
       "</div>"
      ],
      "text/plain": [
       "                        Category         Sales\n",
       "0                      perfumery  5.067387e+05\n",
       "1           Furniture Decoration  1.430176e+06\n",
       "2                      telephony  4.868821e+05\n",
       "3   Fashion Bags and Accessories  2.181583e+05\n",
       "4                 bed table bath  1.712554e+06\n",
       "..                           ...           ...\n",
       "69                cds music dvds  1.199430e+03\n",
       "70                    La Cuisine  2.913530e+03\n",
       "71   Fashion Children's Clothing  7.856700e+02\n",
       "72                      PC Gamer  2.174430e+03\n",
       "73        insurance and services  3.245100e+02\n",
       "\n",
       "[74 rows x 2 columns]"
      ]
     },
     "execution_count": 18,
     "metadata": {},
     "output_type": "execute_result"
    }
   ],
   "source": [
    "query = '''SELECT products.product_category as ProductCategory , SUM(payments.payment_value) as total_sales \n",
    "from products join order_items \n",
    "on products.product_id = order_items.product_id\n",
    "join payments\n",
    "on payments.order_id = order_items.order_id\n",
    "group by product_category;\n",
    "\n",
    "'''\n",
    "cur.execute(query)\n",
    "data = cur.fetchall()\n",
    "\"total sales per category: \" , data;\n",
    "df = pd.DataFrame(data, columns = ['Category','Sales'])\n",
    "df"
   ]
  },
  {
   "cell_type": "markdown",
   "id": "f6183456",
   "metadata": {},
   "source": [
    "# Calculate the percentage of orders that were paid in installments.\n"
   ]
  },
  {
   "cell_type": "code",
   "execution_count": 4,
   "id": "65b22a84",
   "metadata": {},
   "outputs": [
    {
     "data": {
      "text/plain": [
       "('the percentage of orders that were paid in installments.',\n",
       " Decimal('49.4176'))"
      ]
     },
     "execution_count": 4,
     "metadata": {},
     "output_type": "execute_result"
    }
   ],
   "source": [
    "query = '''SELECT \n",
    "    (SUM(CASE\n",
    "        WHEN payment_installments > 1 THEN 1\n",
    "        ELSE 0\n",
    "    END)) / COUNT(*) * 100 As tage_orders_installemnts\n",
    "FROM\n",
    "    payments;'''\n",
    "cur.execute(query)\n",
    "data = cur.fetchall()\n",
    "\"the percentage of orders that were paid in installments.\",data[0][0]"
   ]
  },
  {
   "cell_type": "markdown",
   "id": "1ecf02d1",
   "metadata": {},
   "source": [
    "# Count the number of customers from each state."
   ]
  },
  {
   "cell_type": "code",
   "execution_count": null,
   "id": "5c4a030e",
   "metadata": {},
   "outputs": [],
   "source": [
    "\n",
    "\n",
    "\n"
   ]
  },
  {
   "cell_type": "code",
   "execution_count": 33,
   "id": "7124decc",
   "metadata": {},
   "outputs": [
    {
     "data": {
      "image/png": "[encoded data removed]",
      "text/plain": [
       "<Figure size 720x360 with 1 Axes>"
      ]
     },
     "metadata": {
      "needs_background": "light"
     },
     "output_type": "display_data"
    }
   ],
   "source": [
    "query = '''SELECT customer_state , COUNT(customer_id) as number_of_customers\n",
    "FROM customer \n",
    "GROUP BY customer_state;'''\n",
    "cur.execute(query)\n",
    "data = cur.fetchall()\n",
    "df = pd.DataFrame(data, columns = ['State','Customer_Count'])\n",
    "\n",
    "plt.figure(figsize=(10,5))               \n",
    "plt.bar(df['State'],df['Customer_Count'])\n",
    "plt.xticks(rotation = 90)\n",
    "\n",
    "plt.show()"
   ]
  },
  {
   "cell_type": "markdown",
   "id": "ec9e2bf8",
   "metadata": {},
   "source": [
    "# Calculate the number of orders per month  in 2018"
   ]
  },
  {
   "cell_type": "code",
   "execution_count": 17,
   "id": "8966f3b3",
   "metadata": {},
   "outputs": [
    {
     "data": {
      "image/png": "[encoded data removed]",
      "text/plain": [
       "<Figure size 432x288 with 1 Axes>"
      ]
     },
     "metadata": {
      "needs_background": "light"
     },
     "output_type": "display_data"
    }
   ],
   "source": [
    "query='''SELECT count(order_id) AS Total_Orders, MONTHNAME(order_purchase_timestamp) AS Month_Number\n",
    "FROM orders\n",
    "WHERE YEAR(order_purchase_timestamp) = 2018\n",
    "GROUP BY MONTH(order_purchase_timestamp) ;\n",
    "'''\n",
    "cur.execute(query)\n",
    "data = cur.fetchall()\n",
    "df = pd.DataFrame(data, columns=['Order_Count','Month'])\n",
    "Month_Order = [\"January\",\"February\",'March','April','May','June','July','August','September','October']\n",
    "\n",
    "ax = sns.barplot(x = df['Month'] , y= df['Order_Count'], data=df, order= Month_Order)\n",
    "plt.xticks(rotation=90)\n",
    "# plt.xlabel(\"Months\")\n",
    "# plt.ylabel(\"Order_Count\")\n",
    "plt.title(\"number of orders per month in 2018\")\n",
    "ax.bar_label(ax.containers[0])\n",
    "plt.show()\n",
    "\n",
    "\n",
    "\n"
   ]
  },
  {
   "cell_type": "markdown",
   "id": "4016f596",
   "metadata": {},
   "source": [
    "# find the average number of products per order, grouped by customer city."
   ]
  },
  {
   "cell_type": "code",
   "execution_count": 7,
   "id": "386d1256",
   "metadata": {},
   "outputs": [
    {
     "data": {
      "text/html": [
       "<div>\n",
       "<style scoped>\n",
       "    .dataframe tbody tr th:only-of-type {\n",
       "        vertical-align: middle;\n",
       "    }\n",
       "\n",
       "    .dataframe tbody tr th {\n",
       "        vertical-align: top;\n",
       "    }\n",
       "\n",
       "    .dataframe thead th {\n",
       "        text-align: right;\n",
       "    }\n",
       "</style>\n",
       "<table border=\"1\" class=\"dataframe\">\n",
       "  <thead>\n",
       "    <tr style=\"text-align: right;\">\n",
       "      <th></th>\n",
       "      <th>Customer_City</th>\n",
       "      <th>Average</th>\n",
       "    </tr>\n",
       "  </thead>\n",
       "  <tbody>\n",
       "    <tr>\n",
       "      <th>0</th>\n",
       "      <td>sao jose dos campos</td>\n",
       "      <td>1.14</td>\n",
       "    </tr>\n",
       "    <tr>\n",
       "      <th>1</th>\n",
       "      <td>indaial</td>\n",
       "      <td>1.12</td>\n",
       "    </tr>\n",
       "    <tr>\n",
       "      <th>2</th>\n",
       "      <td>treze tilias</td>\n",
       "      <td>1.27</td>\n",
       "    </tr>\n",
       "    <tr>\n",
       "      <th>3</th>\n",
       "      <td>sao paulo</td>\n",
       "      <td>1.16</td>\n",
       "    </tr>\n",
       "    <tr>\n",
       "      <th>4</th>\n",
       "      <td>rio de janeiro</td>\n",
       "      <td>1.15</td>\n",
       "    </tr>\n",
       "  </tbody>\n",
       "</table>\n",
       "</div>"
      ],
      "text/plain": [
       "         Customer_City Average\n",
       "0  sao jose dos campos    1.14\n",
       "1              indaial    1.12\n",
       "2         treze tilias    1.27\n",
       "3            sao paulo    1.16\n",
       "4       rio de janeiro    1.15"
      ]
     },
     "execution_count": 7,
     "metadata": {},
     "output_type": "execute_result"
    }
   ],
   "source": [
    "\n",
    "\n",
    "query = '''WITH count_per_order as\n",
    "(SELECT orders.order_id, orders.customer_id,COUNT(order_items.order_id) as oc\n",
    "from orders join order_items\n",
    "on orders.order_id = order_items.order_id\n",
    "group by orders.order_id, orders.customer_id)\n",
    "\n",
    "select customer.customer_city, round(avg(count_per_order.oc),2) average_orders\n",
    "from customer join count_per_order\n",
    "on customer.customer_id = count_per_order.customer_id\n",
    "group by customer.customer_city;'''\n",
    "\n",
    "cur.execute(query)\n",
    "data = cur.fetchall()\n",
    "df = pd.DataFrame(data, columns=['Customer_City','Average'])\n",
    "df.head()\n"
   ]
  },
  {
   "cell_type": "markdown",
   "id": "4229588b",
   "metadata": {},
   "source": [
    "# Calculate the percentage of total revenue contributed by each product categroy."
   ]
  },
  {
   "cell_type": "code",
   "execution_count": 10,
   "id": "c8ff7dd7",
   "metadata": {},
   "outputs": [
    {
     "data": {
      "text/html": [
       "<div>\n",
       "<style scoped>\n",
       "    .dataframe tbody tr th:only-of-type {\n",
       "        vertical-align: middle;\n",
       "    }\n",
       "\n",
       "    .dataframe tbody tr th {\n",
       "        vertical-align: top;\n",
       "    }\n",
       "\n",
       "    .dataframe thead th {\n",
       "        text-align: right;\n",
       "    }\n",
       "</style>\n",
       "<table border=\"1\" class=\"dataframe\">\n",
       "  <thead>\n",
       "    <tr style=\"text-align: right;\">\n",
       "      <th></th>\n",
       "      <th>Category</th>\n",
       "      <th>Total Revenue Percentage</th>\n",
       "    </tr>\n",
       "  </thead>\n",
       "  <tbody>\n",
       "    <tr>\n",
       "      <th>0</th>\n",
       "      <td>BED TABLE BATH</td>\n",
       "      <td>10.70</td>\n",
       "    </tr>\n",
       "    <tr>\n",
       "      <th>1</th>\n",
       "      <td>HEALTH BEAUTY</td>\n",
       "      <td>10.35</td>\n",
       "    </tr>\n",
       "    <tr>\n",
       "      <th>2</th>\n",
       "      <td>COMPUTER ACCESSORIES</td>\n",
       "      <td>9.90</td>\n",
       "    </tr>\n",
       "    <tr>\n",
       "      <th>3</th>\n",
       "      <td>FURNITURE DECORATION</td>\n",
       "      <td>8.93</td>\n",
       "    </tr>\n",
       "    <tr>\n",
       "      <th>4</th>\n",
       "      <td>WATCHES PRESENT</td>\n",
       "      <td>8.93</td>\n",
       "    </tr>\n",
       "    <tr>\n",
       "      <th>...</th>\n",
       "      <td>...</td>\n",
       "      <td>...</td>\n",
       "    </tr>\n",
       "    <tr>\n",
       "      <th>69</th>\n",
       "      <td>HOUSE COMFORT 2</td>\n",
       "      <td>0.01</td>\n",
       "    </tr>\n",
       "    <tr>\n",
       "      <th>70</th>\n",
       "      <td>CDS MUSIC DVDS</td>\n",
       "      <td>0.01</td>\n",
       "    </tr>\n",
       "    <tr>\n",
       "      <th>71</th>\n",
       "      <td>PC GAMER</td>\n",
       "      <td>0.01</td>\n",
       "    </tr>\n",
       "    <tr>\n",
       "      <th>72</th>\n",
       "      <td>FASHION CHILDREN'S CLOTHING</td>\n",
       "      <td>0.00</td>\n",
       "    </tr>\n",
       "    <tr>\n",
       "      <th>73</th>\n",
       "      <td>INSURANCE AND SERVICES</td>\n",
       "      <td>0.00</td>\n",
       "    </tr>\n",
       "  </tbody>\n",
       "</table>\n",
       "<p>74 rows × 2 columns</p>\n",
       "</div>"
      ],
      "text/plain": [
       "                       Category  Total Revenue Percentage\n",
       "0                BED TABLE BATH                     10.70\n",
       "1                 HEALTH BEAUTY                     10.35\n",
       "2          COMPUTER ACCESSORIES                      9.90\n",
       "3          FURNITURE DECORATION                      8.93\n",
       "4               WATCHES PRESENT                      8.93\n",
       "..                          ...                       ...\n",
       "69              HOUSE COMFORT 2                      0.01\n",
       "70               CDS MUSIC DVDS                      0.01\n",
       "71                     PC GAMER                      0.01\n",
       "72  FASHION CHILDREN'S CLOTHING                      0.00\n",
       "73       INSURANCE AND SERVICES                      0.00\n",
       "\n",
       "[74 rows x 2 columns]"
      ]
     },
     "execution_count": 10,
     "metadata": {},
     "output_type": "execute_result"
    }
   ],
   "source": [
    "query = '''SELECT upper(products.product_category) category,\n",
    "round((SUM(payment_value) / (select sum(payment_value) from payments))*100,2) as total_revenue_Percentage\n",
    "from order_items JOIN \n",
    "products ON\n",
    "order_items.product_id = products.product_id\n",
    "JOIN \n",
    "payments \n",
    "ON \n",
    "payments.order_id = order_items.order_id\n",
    "GROUP BY product_category \n",
    "ORDER BY total_revenue_Percentage desc;'''\n",
    "\n",
    "cur.execute(query)\n",
    "data = cur.fetchall()\n",
    "df = pd.DataFrame(data, columns=['Category','Total Revenue Percentage'])\n",
    "df"
   ]
  },
  {
   "cell_type": "markdown",
   "id": "6efc9d77",
   "metadata": {},
   "source": [
    "# . Identify the correlation between product price and the number of times a product has been purchased."
   ]
  },
  {
   "cell_type": "code",
   "execution_count": 4,
   "id": "8da8f135",
   "metadata": {},
   "outputs": [
    {
     "data": {
      "text/html": [
       "<div>\n",
       "<style scoped>\n",
       "    .dataframe tbody tr th:only-of-type {\n",
       "        vertical-align: middle;\n",
       "    }\n",
       "\n",
       "    .dataframe tbody tr th {\n",
       "        vertical-align: top;\n",
       "    }\n",
       "\n",
       "    .dataframe thead th {\n",
       "        text-align: right;\n",
       "    }\n",
       "</style>\n",
       "<table border=\"1\" class=\"dataframe\">\n",
       "  <thead>\n",
       "    <tr style=\"text-align: right;\">\n",
       "      <th></th>\n",
       "      <th>Product_Category</th>\n",
       "      <th>Order_Count</th>\n",
       "      <th>Avg_Price</th>\n",
       "    </tr>\n",
       "  </thead>\n",
       "  <tbody>\n",
       "    <tr>\n",
       "      <th>0</th>\n",
       "      <td>HEALTH BEAUTY</td>\n",
       "      <td>9670</td>\n",
       "      <td>130.16</td>\n",
       "    </tr>\n",
       "    <tr>\n",
       "      <th>1</th>\n",
       "      <td>sport leisure</td>\n",
       "      <td>8641</td>\n",
       "      <td>114.34</td>\n",
       "    </tr>\n",
       "    <tr>\n",
       "      <th>2</th>\n",
       "      <td>Cool Stuff</td>\n",
       "      <td>3796</td>\n",
       "      <td>167.36</td>\n",
       "    </tr>\n",
       "    <tr>\n",
       "      <th>3</th>\n",
       "      <td>computer accessories</td>\n",
       "      <td>7827</td>\n",
       "      <td>116.51</td>\n",
       "    </tr>\n",
       "    <tr>\n",
       "      <th>4</th>\n",
       "      <td>Watches present</td>\n",
       "      <td>5991</td>\n",
       "      <td>201.14</td>\n",
       "    </tr>\n",
       "    <tr>\n",
       "      <th>...</th>\n",
       "      <td>...</td>\n",
       "      <td>...</td>\n",
       "      <td>...</td>\n",
       "    </tr>\n",
       "    <tr>\n",
       "      <th>69</th>\n",
       "      <td>flowers</td>\n",
       "      <td>33</td>\n",
       "      <td>33.64</td>\n",
       "    </tr>\n",
       "    <tr>\n",
       "      <th>70</th>\n",
       "      <td>Kitchen portable and food coach</td>\n",
       "      <td>15</td>\n",
       "      <td>264.57</td>\n",
       "    </tr>\n",
       "    <tr>\n",
       "      <th>71</th>\n",
       "      <td>House Comfort 2</td>\n",
       "      <td>30</td>\n",
       "      <td>25.34</td>\n",
       "    </tr>\n",
       "    <tr>\n",
       "      <th>72</th>\n",
       "      <td>CITTE AND UPHACK FURNITURE</td>\n",
       "      <td>38</td>\n",
       "      <td>114.95</td>\n",
       "    </tr>\n",
       "    <tr>\n",
       "      <th>73</th>\n",
       "      <td>cds music dvds</td>\n",
       "      <td>14</td>\n",
       "      <td>52.14</td>\n",
       "    </tr>\n",
       "  </tbody>\n",
       "</table>\n",
       "<p>74 rows × 3 columns</p>\n",
       "</div>"
      ],
      "text/plain": [
       "                   Product_Category  Order_Count  Avg_Price\n",
       "0                     HEALTH BEAUTY         9670     130.16\n",
       "1                     sport leisure         8641     114.34\n",
       "2                        Cool Stuff         3796     167.36\n",
       "3              computer accessories         7827     116.51\n",
       "4                   Watches present         5991     201.14\n",
       "..                              ...          ...        ...\n",
       "69                          flowers           33      33.64\n",
       "70  Kitchen portable and food coach           15     264.57\n",
       "71                  House Comfort 2           30      25.34\n",
       "72       CITTE AND UPHACK FURNITURE           38     114.95\n",
       "73                   cds music dvds           14      52.14\n",
       "\n",
       "[74 rows x 3 columns]"
      ]
     },
     "execution_count": 4,
     "metadata": {},
     "output_type": "execute_result"
    }
   ],
   "source": [
    "query='''SELECT  products.product_category,\n",
    "count(order_items.product_id),\n",
    "round(avg(order_items.price),2)\n",
    "from products join order_items\n",
    "on products.product_id = order_items.product_id\n",
    "group by products.product_category;'''\n",
    "\n",
    "\n",
    "cur.execute(query)\n",
    "data = cur.fetchall()\n",
    "df = pd.DataFrame(data, columns=['Product_Category','Order_Count','Avg_Price'])\n",
    "df"
   ]
  },
  {
   "cell_type": "code",
   "execution_count": 7,
   "id": "446a08fc",
   "metadata": {},
   "outputs": [
    {
     "name": "stdout",
     "output_type": "stream",
     "text": [
      " the corellation between order count and price -0.10631514167157562\n"
     ]
    }
   ],
   "source": [
    "# to find the corelation\n",
    "import numpy as np\n",
    "arr1 = df['Order_Count']\n",
    "arr2 = df['Avg_Price']\n",
    "a = np.corrcoef([arr1,arr2])\n",
    "print(\" the corellation between order count and price\",a[0][1])"
   ]
  },
  {
   "cell_type": "code",
   "execution_count": null,
   "id": "94d2a839",
   "metadata": {},
   "outputs": [],
   "source": [
    "# Conclusion \n",
    "#  this code calculates and prints the correlation between the number of orders and the average price.\n",
    "#     If the correlation value is close to 1, it means they are strongly positively related; \n",
    "#     if it’s close to -1, they are strongly negatively related; if it’s around 0, there is little to no relationship."
   ]
  },
  {
   "cell_type": "markdown",
   "id": "5af97678",
   "metadata": {},
   "source": [
    "# 1. Calculate the moving average of order values for each customer over their order history."
   ]
  },
  {
   "cell_type": "code",
   "execution_count": 21,
   "id": "967cfaf9",
   "metadata": {},
   "outputs": [
    {
     "data": {
      "image/png": "[encoded data removed]",
      "text/plain": [
       "<Figure size 432x288 with 1 Axes>"
      ]
     },
     "metadata": {
      "needs_background": "light"
     },
     "output_type": "display_data"
    }
   ],
   "source": [
    "query = '''\n",
    "Select * , dense_rank() over(order by revenue desc) as ranking from(\n",
    "SELECT order_items.seller_id , SUM(payments.payment_value) Revenue\n",
    "\n",
    "FROM order_items join payments\n",
    "ON order_items.order_id = payments.order_id\n",
    "GROUP BY seller_id\n",
    "LIMIT 10) as a '''\n",
    "\n",
    "cur.execute(query)\n",
    "data = cur.fetchall()\n",
    "df = pd.DataFrame(data, columns=['SellerID','Total Revenue','Rankings'])\n",
    "df.head(5)\n",
    "sns.barplot(x = 'SellerID', y = 'Total Revenue', data = df)\n",
    "plt.xticks(rotation=90)\n",
    "plt.show()"
   ]
  },
  {
   "cell_type": "markdown",
   "id": "8c73f470",
   "metadata": {},
   "source": [
    "# Calculate the moving average of order values for each customer over their order history.\n"
   ]
  },
  {
   "cell_type": "code",
   "execution_count": 19,
   "id": "fc746820",
   "metadata": {},
   "outputs": [
    {
     "data": {
      "text/html": [
       "<div>\n",
       "<style scoped>\n",
       "    .dataframe tbody tr th:only-of-type {\n",
       "        vertical-align: middle;\n",
       "    }\n",
       "\n",
       "    .dataframe tbody tr th {\n",
       "        vertical-align: top;\n",
       "    }\n",
       "\n",
       "    .dataframe thead th {\n",
       "        text-align: right;\n",
       "    }\n",
       "</style>\n",
       "<table border=\"1\" class=\"dataframe\">\n",
       "  <thead>\n",
       "    <tr style=\"text-align: right;\">\n",
       "      <th></th>\n",
       "      <th>Customer_id</th>\n",
       "      <th>Order_time</th>\n",
       "      <th>Payment</th>\n",
       "      <th>Moving Average</th>\n",
       "    </tr>\n",
       "  </thead>\n",
       "  <tbody>\n",
       "    <tr>\n",
       "      <th>0</th>\n",
       "      <td>0080e98d82eceee143dc006defe00687</td>\n",
       "      <td>2017-10-26 18:29:04</td>\n",
       "      <td>72.66</td>\n",
       "      <td>72.660004</td>\n",
       "    </tr>\n",
       "    <tr>\n",
       "      <th>1</th>\n",
       "      <td>4a00f00d951c167739888a1f16c56e8e</td>\n",
       "      <td>2018-01-14 18:49:14</td>\n",
       "      <td>48.91</td>\n",
       "      <td>48.910000</td>\n",
       "    </tr>\n",
       "    <tr>\n",
       "      <th>2</th>\n",
       "      <td>625784c6aad212dc7d249ea10e276617</td>\n",
       "      <td>2017-07-18 13:32:25</td>\n",
       "      <td>154.14</td>\n",
       "      <td>154.139999</td>\n",
       "    </tr>\n",
       "    <tr>\n",
       "      <th>3</th>\n",
       "      <td>7e2ca73af071679902a9ba14d7c3cee8</td>\n",
       "      <td>2018-06-11 14:59:24</td>\n",
       "      <td>340.08</td>\n",
       "      <td>340.079987</td>\n",
       "    </tr>\n",
       "    <tr>\n",
       "      <th>4</th>\n",
       "      <td>cefab390926b6fc3de3ca94c82ebb1ba</td>\n",
       "      <td>2017-09-25 16:38:46</td>\n",
       "      <td>26.58</td>\n",
       "      <td>26.580000</td>\n",
       "    </tr>\n",
       "  </tbody>\n",
       "</table>\n",
       "</div>"
      ],
      "text/plain": [
       "                        Customer_id           Order_time  Payment  \\\n",
       "0  0080e98d82eceee143dc006defe00687  2017-10-26 18:29:04    72.66   \n",
       "1  4a00f00d951c167739888a1f16c56e8e  2018-01-14 18:49:14    48.91   \n",
       "2  625784c6aad212dc7d249ea10e276617  2017-07-18 13:32:25   154.14   \n",
       "3  7e2ca73af071679902a9ba14d7c3cee8  2018-06-11 14:59:24   340.08   \n",
       "4  cefab390926b6fc3de3ca94c82ebb1ba  2017-09-25 16:38:46    26.58   \n",
       "\n",
       "   Moving Average  \n",
       "0       72.660004  \n",
       "1       48.910000  \n",
       "2      154.139999  \n",
       "3      340.079987  \n",
       "4       26.580000  "
      ]
     },
     "execution_count": 19,
     "metadata": {},
     "output_type": "execute_result"
    }
   ],
   "source": [
    "query='''select customer_id, order_purchase_timestamp,payment,\n",
    "avg(payment) over (partition by customer_id order by order_purchase_timestamp\n",
    "rows between 2 preceding and current row) as mov_avg\n",
    "from(\n",
    "SELECT orders.customer_id, orders.order_purchase_timestamp,\n",
    "payments.payment_value as payment\n",
    "from payments join orders \n",
    "on payments.order_id = orders.order_id\n",
    "LIMIT 5\n",
    ") as a;'''\n",
    "cur.execute(query)\n",
    "data = cur.fetchall()\n",
    "df = pd.DataFrame(data, columns=['Customer_id','Order_time','Payment','Moving Average'])\n",
    "df\n"
   ]
  },
  {
   "cell_type": "code",
   "execution_count": null,
   "id": "ad10a2c8",
   "metadata": {},
   "outputs": [],
   "source": []
  }
 ],
 "metadata": {
  "kernelspec": {
   "display_name": "Python 3 (ipykernel)",
   "language": "python",
   "name": "python3"
  },
  "language_info": {
   "codemirror_mode": {
    "name": "ipython",
    "version": 3
   },
   "file_extension": ".py",
   "mimetype": "text/x-python",
   "name": "python",
   "nbconvert_exporter": "python",
   "pygments_lexer": "ipython3",
   "version": "3.9.12"
  }
 },
 "nbformat": 4,
 "nbformat_minor": 5
}
